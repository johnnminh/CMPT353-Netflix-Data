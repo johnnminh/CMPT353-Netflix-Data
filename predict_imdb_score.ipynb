{
 "cells": [
  {
   "cell_type": "code",
   "execution_count": 1,
   "metadata": {},
   "outputs": [],
   "source": [
    "import numpy as np\n",
    "import pandas as pd\n",
    "from sklearn.preprocessing import MultiLabelBinarizer\n",
    "from sklearn.ensemble import RandomForestClassifier\n",
    "from sklearn.model_selection import train_test_split"
   ]
  },
  {
   "cell_type": "code",
   "execution_count": 2,
   "metadata": {},
   "outputs": [],
   "source": [
    "netflix_rating = pd.read_csv(\"netflix_ratings_data.csv\")"
   ]
  },
  {
   "cell_type": "code",
   "execution_count": 3,
   "metadata": {},
   "outputs": [],
   "source": [
    "all_genres = netflix_rating['genres'].str.split(\"\\\\s*,\\\\s*\").explode(ignore_index=True).drop_duplicates()\n",
    "all_genres = all_genres.sort_values()\n",
    "genres = all_genres.to_list()\n",
    "all_genres.to_csv('netflix_genres_data.csv', sep=',', index=False)"
   ]
  },
  {
   "cell_type": "code",
   "execution_count": 4,
   "metadata": {},
   "outputs": [
    {
     "data": {
      "text/html": [
       "<div>\n",
       "<style scoped>\n",
       "    .dataframe tbody tr th:only-of-type {\n",
       "        vertical-align: middle;\n",
       "    }\n",
       "\n",
       "    .dataframe tbody tr th {\n",
       "        vertical-align: top;\n",
       "    }\n",
       "\n",
       "    .dataframe thead th {\n",
       "        text-align: right;\n",
       "    }\n",
       "</style>\n",
       "<table border=\"1\" class=\"dataframe\">\n",
       "  <thead>\n",
       "    <tr style=\"text-align: right;\">\n",
       "      <th></th>\n",
       "      <th>title</th>\n",
       "      <th>genres</th>\n",
       "    </tr>\n",
       "  </thead>\n",
       "  <tbody>\n",
       "    <tr>\n",
       "      <th>0</th>\n",
       "      <td>dick johnson is dead</td>\n",
       "      <td>[Biography, Documentary, Drama]</td>\n",
       "    </tr>\n",
       "    <tr>\n",
       "      <th>1</th>\n",
       "      <td>ganglands</td>\n",
       "      <td>[Action, Crime, Drama]</td>\n",
       "    </tr>\n",
       "    <tr>\n",
       "      <th>2</th>\n",
       "      <td>jailbirds new orleans</td>\n",
       "      <td>[Documentary, Reality-TV]</td>\n",
       "    </tr>\n",
       "    <tr>\n",
       "      <th>3</th>\n",
       "      <td>midnight mass</td>\n",
       "      <td>[Drama, Fantasy, Horror]</td>\n",
       "    </tr>\n",
       "    <tr>\n",
       "      <th>4</th>\n",
       "      <td>my little pony: a new generation</td>\n",
       "      <td>[Adventure, Animation, Comedy]</td>\n",
       "    </tr>\n",
       "    <tr>\n",
       "      <th>...</th>\n",
       "      <td>...</td>\n",
       "      <td>...</td>\n",
       "    </tr>\n",
       "    <tr>\n",
       "      <th>6415</th>\n",
       "      <td>zindagi gulzar hai</td>\n",
       "      <td>[Romance]</td>\n",
       "    </tr>\n",
       "    <tr>\n",
       "      <th>6416</th>\n",
       "      <td>zodiac</td>\n",
       "      <td>[Crime, Drama, Mystery]</td>\n",
       "    </tr>\n",
       "    <tr>\n",
       "      <th>6417</th>\n",
       "      <td>zombieland</td>\n",
       "      <td>[Action, Comedy, Horror]</td>\n",
       "    </tr>\n",
       "    <tr>\n",
       "      <th>6418</th>\n",
       "      <td>zoom</td>\n",
       "      <td>[Action, Adventure, Comedy]</td>\n",
       "    </tr>\n",
       "    <tr>\n",
       "      <th>6419</th>\n",
       "      <td>zubaan</td>\n",
       "      <td>[Drama]</td>\n",
       "    </tr>\n",
       "  </tbody>\n",
       "</table>\n",
       "<p>6420 rows × 2 columns</p>\n",
       "</div>"
      ],
      "text/plain": [
       "                                 title                           genres\n",
       "0                 dick johnson is dead  [Biography, Documentary, Drama]\n",
       "1                            ganglands           [Action, Crime, Drama]\n",
       "2                jailbirds new orleans        [Documentary, Reality-TV]\n",
       "3                        midnight mass         [Drama, Fantasy, Horror]\n",
       "4     my little pony: a new generation   [Adventure, Animation, Comedy]\n",
       "...                                ...                              ...\n",
       "6415                zindagi gulzar hai                        [Romance]\n",
       "6416                            zodiac          [Crime, Drama, Mystery]\n",
       "6417                        zombieland         [Action, Comedy, Horror]\n",
       "6418                              zoom      [Action, Adventure, Comedy]\n",
       "6419                            zubaan                          [Drama]\n",
       "\n",
       "[6420 rows x 2 columns]"
      ]
     },
     "execution_count": 4,
     "metadata": {},
     "output_type": "execute_result"
    }
   ],
   "source": [
    "netflix_genre = pd.DataFrame([netflix_rating.title, netflix_rating.genres]).transpose()\n",
    "netflix_genre['genres'] = netflix_genre['genres'].str.split(\"\\\\s*,\\\\s*\")\n",
    "# netflix_genre['score'] = netflix_rating['averageRating']\n",
    "# netflix_genre = netflix_genre.explode('genres')\n",
    "netflix_genre\n"
   ]
  },
  {
   "cell_type": "code",
   "execution_count": 5,
   "metadata": {},
   "outputs": [],
   "source": [
    "#Reference: https://www.analyticsvidhya.com/blog/2019/04/predicting-movie-genres-nlp-multi-label-classification/?fbclid=IwAR3L_2ZH4mMH3TDtU3Xo70o5I5oVvPu25god32CR3IilRz_1MZOzOvzkmbs\n",
    "mlb = MultiLabelBinarizer()\n",
    "genre_mlb = mlb.fit(netflix_genre['genres'])\n",
    "\n",
    "# transform target variable\n",
    "binarized_df = mlb.transform(netflix_genre['genres'])\n",
    "\n",
    "movie_genres_mlb = pd.DataFrame(binarized_df, columns = mlb.classes_)\n",
    "\n",
    "X = movie_genres_mlb\n",
    "y = netflix_rating['ranking']\n",
    "\n",
    "movie_genres_mlb = movie_genres_mlb.drop(['\\\\N'], axis=1)\n"
   ]
  },
  {
   "cell_type": "code",
   "execution_count": 7,
   "metadata": {},
   "outputs": [
    {
     "name": "stdout",
     "output_type": "stream",
     "text": [
      "0.615070093457944\n",
      "0.6191588785046729\n"
     ]
    }
   ],
   "source": [
    "X_train, X_valid, y_train, y_valid = train_test_split(X, y, test_size=0.2, random_state=9)\n",
    "model = RandomForestClassifier(n_estimators=100, max_depth=3, min_samples_leaf=10)\n",
    "model.fit(X_train, y_train)\n",
    "print(model.score(X_train, y_train))\n",
    "print(model.score(X_valid, y_valid))"
   ]
  }
 ],
 "metadata": {
  "interpreter": {
   "hash": "63fd5069d213b44bf678585dea6b12cceca9941eaf7f819626cde1f2670de90d"
  },
  "kernelspec": {
   "display_name": "Python 3.9.7 64-bit",
   "language": "python",
   "name": "python3"
  },
  "language_info": {
   "codemirror_mode": {
    "name": "ipython",
    "version": 3
   },
   "file_extension": ".py",
   "mimetype": "text/x-python",
   "name": "python",
   "nbconvert_exporter": "python",
   "pygments_lexer": "ipython3",
   "version": "3.9.7"
  },
  "orig_nbformat": 4
 },
 "nbformat": 4,
 "nbformat_minor": 2
}
