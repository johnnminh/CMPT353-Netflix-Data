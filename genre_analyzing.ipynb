{
 "cells": [
  {
   "cell_type": "code",
   "execution_count": null,
   "metadata": {},
   "outputs": [],
   "source": [
    "import pandas as pd\n",
    "import numpy as np\n",
    "from matplotlib import pyplot as plt\n",
    "from scipy import stats\n",
    "import seaborn as sns\n",
    "from statsmodels.stats.multicomp import pairwise_tukeyhsd\n"
   ]
  },
  {
   "cell_type": "code",
   "execution_count": null,
   "metadata": {},
   "outputs": [],
   "source": [
    "df = pd.read_csv('netflix_ratings_data.csv', sep = ',')"
   ]
  },
  {
   "cell_type": "code",
   "execution_count": null,
   "metadata": {},
   "outputs": [],
   "source": [
    "df['splitted_genre'] = df['genres'].str.split(',')\n",
    "genre_df = pd.DataFrame({'col':df['splitted_genre']})\n",
    "genre_df = genre_df.explode('col')"
   ]
  },
  {
   "cell_type": "code",
   "execution_count": null,
   "metadata": {},
   "outputs": [],
   "source": [
    "genre_df = genre_df.drop_duplicates()\n",
    "genre_df = genre_df.drop([372])\n",
    "genre_data = genre_df.reset_index(drop=True)"
   ]
  },
  {
   "cell_type": "code",
   "execution_count": null,
   "metadata": {},
   "outputs": [],
   "source": [
    "title_genre = df[['title','splitted_genre']]"
   ]
  },
  {
   "cell_type": "code",
   "execution_count": null,
   "metadata": {},
   "outputs": [],
   "source": [
    "title_genre_2 = title_genre.copy()\n",
    "title_genre_2 =title_genre_2.explode('splitted_genre') "
   ]
  },
  {
   "cell_type": "code",
   "execution_count": null,
   "metadata": {},
   "outputs": [],
   "source": [
    "genre_title_count = title_genre_2.groupby('splitted_genre').size().reset_index(name='counts')"
   ]
  },
  {
   "cell_type": "code",
   "execution_count": null,
   "metadata": {},
   "outputs": [],
   "source": [
    "genre_title_count = genre_title_count.sort_values(by = 'counts', ascending = True)"
   ]
  },
  {
   "cell_type": "code",
   "execution_count": null,
   "metadata": {},
   "outputs": [],
   "source": [
    "genre_title_count"
   ]
  },
  {
   "cell_type": "code",
   "execution_count": null,
   "metadata": {},
   "outputs": [],
   "source": [
    "#Reference: https://www.geeksforgeeks.org/bar-plot-in-matplotlib/\n",
    "genre = genre_title_count['splitted_genre']\n",
    "number_of_titles = genre_title_count['counts']\n",
    "fig, ax = plt.subplots(figsize =(25, 17))\n",
    "ax.barh(genre, number_of_titles)\n",
    "ax.xaxis.set_ticks_position('none')\n",
    "ax.yaxis.set_ticks_position('none')\n",
    "ax.xaxis.set_tick_params(pad = 5)\n",
    "ax.yaxis.set_tick_params(pad = 10)\n",
    "ax.grid(b = True, color ='blue',\n",
    "        linestyle ='-.', linewidth = 0.5,\n",
    "        alpha = 0.4)\n",
    "for i in ax.patches:\n",
    "    plt.text(i.get_width()+0.2, i.get_y()+0.5,\n",
    "             str(round((i.get_width()), 2)),\n",
    "             fontsize = 14, fontweight ='bold',\n",
    "             color ='grey')\n",
    "ax.set_title('Distribution of movies and TV shows by genre', loc = 'center',fontsize = 22,)\n",
    "plt.rc('xtick', labelsize=20) \n",
    "plt.rc('ytick', labelsize=20) \n",
    "plt.savefig('bar_plot_title_distribution.png')\n",
    "plt.show()\n",
    "\n"
   ]
  },
  {
   "cell_type": "code",
   "execution_count": null,
   "metadata": {},
   "outputs": [],
   "source": [
    "title_genre_4 = df[['splitted_genre','averageRating', 'year']]\n",
    "title_genre_4 = title_genre_4.explode('splitted_genre')\n",
    "yearly_groupped = title_genre_4.groupby('year').size().reset_index(name = 'count')"
   ]
  },
  {
   "cell_type": "code",
   "execution_count": null,
   "metadata": {},
   "outputs": [],
   "source": [
    "yearly_groupped = yearly_groupped[yearly_groupped['year'] > 2000]\n",
    "subset_year = title_genre_4[title_genre_4['year']>2008]\n",
    "subset_year = subset_year.set_index('year')"
   ]
  },
  {
   "cell_type": "code",
   "execution_count": null,
   "metadata": {},
   "outputs": [],
   "source": [
    "subset_year = subset_year.groupby(['splitted_genre','year'])['averageRating'].mean().reset_index()\n"
   ]
  },
  {
   "cell_type": "code",
   "execution_count": null,
   "metadata": {},
   "outputs": [],
   "source": [
    "subset_year =subset_year.set_index('splitted_genre')"
   ]
  },
  {
   "cell_type": "code",
   "execution_count": null,
   "metadata": {},
   "outputs": [],
   "source": [
    "subset_year_2 = subset_year.loc[['Action', 'Comedy','Drama','Documentary','Crime',\n",
    "                                 'Romance','Thriller','Adventure','Animation']].reset_index()"
   ]
  },
  {
   "cell_type": "code",
   "execution_count": null,
   "metadata": {},
   "outputs": [],
   "source": [
    "list_p =[]\n",
    "genre_list = ['Action', 'Comedy','Drama','Documentary','Crime',\n",
    "                                 'Romance','Thriller','Adventure','Animation']\n",
    "for i in genre_list:\n",
    "    subset_genre = subset_year_2[subset_year_2['splitted_genre']==i] \n",
    "    normal_cal = stats.normaltest(subset_genre['averageRating']).pvalue\n",
    "    print(i, normal_cal)\n"
   ]
  },
  {
   "cell_type": "code",
   "execution_count": null,
   "metadata": {},
   "outputs": [],
   "source": [
    "#We can see that Comedy and Crime data is not normal \n",
    "comedy_df = subset_year_2[subset_year_2['splitted_genre']=='Comedy'].drop(columns=['year'])\n",
    "crime_df = subset_year_2[subset_year_2['splitted_genre']=='Crime'].drop(columns=['year'])\n",
    "\n",
    "fig, axes = plt.subplots(1, 2, figsize=(10, 3), sharey=True, dpi=100)\n",
    "sns.distplot(comedy_df['averageRating'] , color=\"dodgerblue\", ax=axes[0], axlabel='Comedy')\n",
    "sns.distplot(crime_df['averageRating'] , color=\"deeppink\", ax=axes[1], axlabel='Crime')\n"
   ]
  },
  {
   "cell_type": "code",
   "execution_count": null,
   "metadata": {},
   "outputs": [],
   "source": [
    "genre_list = ['Action', 'Comedy','Drama','Documentary','Crime',\n",
    "                                 'Romance','Thriller','Adventure','Animation']\n",
    "action_df = subset_year_2[subset_year_2['splitted_genre']=='Action'].drop(columns=['year'])\n",
    "drama_df = subset_year_2[subset_year_2['splitted_genre']=='Drama'].drop(columns=['year'])\n",
    "documentary_df = subset_year_2[subset_year_2['splitted_genre']=='Documentary'].drop(columns=['year'])\n",
    "romance_df = subset_year_2[subset_year_2['splitted_genre']=='Romance'].drop(columns=['year'])\n",
    "thriller_df = subset_year_2[subset_year_2['splitted_genre']=='Thriller'].drop(columns=['year'])\n",
    "adventure_df = subset_year_2[subset_year_2['splitted_genre']=='Adventure'].drop(columns=['year'])\n",
    "animation_df = subset_year_2[subset_year_2['splitted_genre']=='Animation'].drop(columns=['year'])\n"
   ]
  },
  {
   "cell_type": "code",
   "execution_count": null,
   "metadata": {},
   "outputs": [],
   "source": [
    "initial_levene_p = stats.levene(action_df['averageRating'], drama_df['averageRating'], documentary_df['averageRating'], romance_df['averageRating'],\n",
    "                                thriller_df['averageRating'],adventure_df['averageRating'], animation_df['averageRating']).pvalue\n",
    "print(initial_levene_p)"
   ]
  },
  {
   "cell_type": "code",
   "execution_count": null,
   "metadata": {},
   "outputs": [],
   "source": [
    "#They have equal variance=>Proceed with ANOVA test\n",
    "anova = stats.f_oneway(action_df['averageRating'],      drama_df['averageRating'],\n",
    "                       documentary_df['averageRating'], romance_df['averageRating'],\n",
    "                       thriller_df['averageRating'],     adventure_df['averageRating'], \n",
    "                       animation_df['averageRating'])\n",
    "print(\"Anova p-value: \", anova.pvalue)\n",
    "data = pd.DataFrame({'action': action_df['averageRating'].tolist(),\n",
    "                        'drama': drama_df['averageRating'].tolist(),\n",
    "                        'documentary': documentary_df['averageRating'].tolist(),\n",
    "                        'romance': romance_df['averageRating'].tolist(),\n",
    "                        'thriller': thriller_df['averageRating'].tolist(),\n",
    "                        'adventure': adventure_df['averageRating'].tolist(),\n",
    "                        'animation': animation_df['averageRating'].tolist()})\n",
    "\n",
    "melted = pd.melt(data)\n",
    "posthoc = pairwise_tukeyhsd(\n",
    "    melted['value'], melted['variable'],\n",
    "    alpha=0.05)\n",
    "print(posthoc)\n",
    "ax = plt.axes()\n",
    "ax.yaxis.label.set_size(16)\n",
    "ax.xaxis.label.set_size(18)\n",
    "ax.grid(b = True, color ='blue',\n",
    "        linestyle ='-.', linewidth = 0.5,\n",
    "        alpha = 0.4)\n",
    "fig = posthoc.plot_simultaneous(ax=ax, figsize=(20, 14))\n",
    "fig.suptitle('Average score of selected genre comparison from 2008 to 2021', fontsize=25)\n",
    "fig.savefig(\"posthoc.png\")"
   ]
  }
 ],
 "metadata": {
  "interpreter": {
   "hash": "aee8b7b246df8f9039afb4144a1f6fd8d2ca17a180786b69acc140d282b71a49"
  },
  "kernelspec": {
   "display_name": "Python 3.9.2 64-bit",
   "language": "python",
   "name": "python3"
  },
  "language_info": {
   "codemirror_mode": {
    "name": "ipython",
    "version": 3
   },
   "file_extension": ".py",
   "mimetype": "text/x-python",
   "name": "python",
   "nbconvert_exporter": "python",
   "pygments_lexer": "ipython3",
   "version": "3.9.7"
  },
  "orig_nbformat": 4
 },
 "nbformat": 4,
 "nbformat_minor": 2
}
