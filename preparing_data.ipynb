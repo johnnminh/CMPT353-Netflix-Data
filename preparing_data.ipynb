{
 "cells": [
  {
   "cell_type": "code",
   "execution_count": null,
   "metadata": {},
   "outputs": [],
   "source": [
    "import numpy as np\n",
    "import pandas as pd"
   ]
  },
  {
   "cell_type": "code",
   "execution_count": null,
   "metadata": {},
   "outputs": [],
   "source": [
    "netflix_data = pd.read_csv(\"netflix_titles.csv\")\n",
    "imdb_data = pd.read_csv(\"title_basic_imdb.tsv\", sep = '\\t')"
   ]
  },
  {
   "cell_type": "code",
   "execution_count": null,
   "metadata": {},
   "outputs": [],
   "source": [
    "imdb_rating = pd.read_csv(\"movie_ratings.tsv\", sep = \"\\t\")"
   ]
  },
  {
   "cell_type": "code",
   "execution_count": null,
   "metadata": {},
   "outputs": [],
   "source": [
    "new_dataframe_with_rating = pd.merge(imdb_data.set_index('tconst'), imdb_rating.set_index('tconst'), left_index=True, right_index=True).drop_duplicates()"
   ]
  },
  {
   "cell_type": "code",
   "execution_count": null,
   "metadata": {},
   "outputs": [],
   "source": [
    "new_dataframe_with_rating"
   ]
  },
  {
   "cell_type": "code",
   "execution_count": null,
   "metadata": {},
   "outputs": [],
   "source": [
    "new_dataframe_with_rating = new_dataframe_with_rating[new_dataframe_with_rating['titleType']!='tvEpisode']"
   ]
  },
  {
   "cell_type": "code",
   "execution_count": null,
   "metadata": {},
   "outputs": [],
   "source": [
    "netflix_data['title'] = netflix_data['title'].str.lower()\n",
    "new_dataframe_with_rating['primaryTitle'] = new_dataframe_with_rating['primaryTitle'].str.lower()\n",
    "new_dataframe_with_rating = new_dataframe_with_rating.rename(columns={\"primaryTitle\":\"title\"})"
   ]
  },
  {
   "cell_type": "code",
   "execution_count": null,
   "metadata": {},
   "outputs": [],
   "source": [
    "new_dataframe_with_rating = new_dataframe_with_rating[new_dataframe_with_rating.startYear.apply(lambda x: str(x).isnumeric())]\n",
    "new_dataframe_with_rating['startYear'] = new_dataframe_with_rating['startYear'].astype(int)\n",
    "new_dataframe_with_rating = new_dataframe_with_rating.rename(columns={\"startYear\":\"year\"})"
   ]
  },
  {
   "cell_type": "code",
   "execution_count": null,
   "metadata": {},
   "outputs": [],
   "source": [
    "new_data_netflix = pd.merge(netflix_data,new_dataframe_with_rating, left_on = ['title','release_year'], right_on = ['title', 'year'])\n"
   ]
  },
  {
   "cell_type": "code",
   "execution_count": null,
   "metadata": {},
   "outputs": [],
   "source": [
    "new_data_netflix.head(2)"
   ]
  },
  {
   "cell_type": "code",
   "execution_count": null,
   "metadata": {},
   "outputs": [],
   "source": [
    "reduced_data = new_data_netflix.drop(columns=['titleType', 'date_added', 'description','runtimeMinutes','isAdult','endYear'])\n",
    "reduced_data.head()"
   ]
  },
  {
   "cell_type": "code",
   "execution_count": null,
   "metadata": {},
   "outputs": [],
   "source": [
    "reduced_data = reduced_data.drop(columns=['country', 'listed_in', 'release_year'])\n"
   ]
  },
  {
   "cell_type": "code",
   "execution_count": null,
   "metadata": {},
   "outputs": [],
   "source": [
    "reduced_data.to_csv('netflix_ratings_data.csv', sep=',', index=False)\n"
   ]
  }
 ],
 "metadata": {
  "interpreter": {
   "hash": "aee8b7b246df8f9039afb4144a1f6fd8d2ca17a180786b69acc140d282b71a49"
  },
  "kernelspec": {
   "display_name": "Python 3.9.2 64-bit",
   "language": "python",
   "name": "python3"
  },
  "language_info": {
   "codemirror_mode": {
    "name": "ipython",
    "version": 3
   },
   "file_extension": ".py",
   "mimetype": "text/x-python",
   "name": "python",
   "nbconvert_exporter": "python",
   "pygments_lexer": "ipython3",
   "version": "3.9.2"
  },
  "orig_nbformat": 4
 },
 "nbformat": 4,
 "nbformat_minor": 2
}
