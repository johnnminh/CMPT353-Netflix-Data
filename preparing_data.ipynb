{
 "cells": [
  {
   "cell_type": "code",
   "execution_count": null,
   "metadata": {},
   "outputs": [],
   "source": [
    "import numpy as np\n",
    "import pandas as pd"
   ]
  },
  {
   "cell_type": "code",
   "execution_count": null,
   "metadata": {},
   "outputs": [],
   "source": [
    "netflix_data = pd.read_csv(\"netflix_titles.csv\")\n",
    "imdb_data = pd.read_csv(\"title_basic_imdb.tsv\", sep = '\\t')"
   ]
  },
  {
   "cell_type": "code",
   "execution_count": null,
   "metadata": {},
   "outputs": [],
   "source": [
    "imdb_rating = pd.read_csv(\"movie_ratings.tsv\", sep = \"\\t\")"
   ]
  },
  {
   "cell_type": "code",
   "execution_count": null,
   "metadata": {},
   "outputs": [],
   "source": [
    "new_dataframe_with_rating = pd.merge(imdb_data, imdb_rating, how = 'inner',on = ['tconst'])"
   ]
  },
  {
   "cell_type": "code",
   "execution_count": null,
   "metadata": {},
   "outputs": [],
   "source": [
    "new_dataframe_with_rating = new_dataframe_with_rating[new_dataframe_with_rating['titleType']!='tvEpisode']"
   ]
  },
  {
   "cell_type": "code",
   "execution_count": null,
   "metadata": {},
   "outputs": [],
   "source": [
    "new_dataframe_with_rating = new_dataframe_with_rating.rename(columns={\"originalTitle\":\"title\"})"
   ]
  },
  {
   "cell_type": "code",
   "execution_count": null,
   "metadata": {},
   "outputs": [],
   "source": [
    "you_tvs = new_dataframe_with_rating[new_dataframe_with_rating['title']=='You']\n"
   ]
  },
  {
   "cell_type": "code",
   "execution_count": null,
   "metadata": {},
   "outputs": [],
   "source": [
    "you_tvs"
   ]
  },
  {
   "cell_type": "code",
   "execution_count": null,
   "metadata": {},
   "outputs": [],
   "source": [
    "netflix_data"
   ]
  },
  {
   "cell_type": "code",
   "execution_count": null,
   "metadata": {},
   "outputs": [],
   "source": [
    "new_data_netflix = pd.merge(netflix_data,new_dataframe_with_rating, how = 'inner', on = ['title'])"
   ]
  },
  {
   "cell_type": "code",
   "execution_count": null,
   "metadata": {},
   "outputs": [],
   "source": [
    "crew_names = pd.read_csv('name_crew.tsv', sep = '\\t')\n",
    "crew_titles = pd.read_csv('title_crews.tsv',  sep='\\t')"
   ]
  },
  {
   "cell_type": "code",
   "execution_count": 35,
   "metadata": {},
   "outputs": [
    {
     "data": {
      "text/html": [
       "<div>\n",
       "<style scoped>\n",
       "    .dataframe tbody tr th:only-of-type {\n",
       "        vertical-align: middle;\n",
       "    }\n",
       "\n",
       "    .dataframe tbody tr th {\n",
       "        vertical-align: top;\n",
       "    }\n",
       "\n",
       "    .dataframe thead th {\n",
       "        text-align: right;\n",
       "    }\n",
       "</style>\n",
       "<table border=\"1\" class=\"dataframe\">\n",
       "  <thead>\n",
       "    <tr style=\"text-align: right;\">\n",
       "      <th></th>\n",
       "      <th>tconst</th>\n",
       "      <th>directors</th>\n",
       "      <th>writers</th>\n",
       "    </tr>\n",
       "  </thead>\n",
       "  <tbody>\n",
       "    <tr>\n",
       "      <th>0</th>\n",
       "      <td>tt0000001</td>\n",
       "      <td>nm0005690</td>\n",
       "      <td>\\N</td>\n",
       "    </tr>\n",
       "    <tr>\n",
       "      <th>1</th>\n",
       "      <td>tt0000002</td>\n",
       "      <td>nm0721526</td>\n",
       "      <td>\\N</td>\n",
       "    </tr>\n",
       "    <tr>\n",
       "      <th>2</th>\n",
       "      <td>tt0000003</td>\n",
       "      <td>nm0721526</td>\n",
       "      <td>\\N</td>\n",
       "    </tr>\n",
       "    <tr>\n",
       "      <th>3</th>\n",
       "      <td>tt0000004</td>\n",
       "      <td>nm0721526</td>\n",
       "      <td>\\N</td>\n",
       "    </tr>\n",
       "    <tr>\n",
       "      <th>4</th>\n",
       "      <td>tt0000005</td>\n",
       "      <td>nm0005690</td>\n",
       "      <td>\\N</td>\n",
       "    </tr>\n",
       "    <tr>\n",
       "      <th>...</th>\n",
       "      <td>...</td>\n",
       "      <td>...</td>\n",
       "      <td>...</td>\n",
       "    </tr>\n",
       "    <tr>\n",
       "      <th>8843798</th>\n",
       "      <td>tt9916848</td>\n",
       "      <td>nm5519454,nm5519375</td>\n",
       "      <td>nm6182221,nm1628284,nm2921377</td>\n",
       "    </tr>\n",
       "    <tr>\n",
       "      <th>8843799</th>\n",
       "      <td>tt9916850</td>\n",
       "      <td>nm5519375,nm5519454</td>\n",
       "      <td>nm6182221,nm1628284,nm2921377</td>\n",
       "    </tr>\n",
       "    <tr>\n",
       "      <th>8843800</th>\n",
       "      <td>tt9916852</td>\n",
       "      <td>nm5519454,nm5519375</td>\n",
       "      <td>nm6182221,nm1628284,nm2921377</td>\n",
       "    </tr>\n",
       "    <tr>\n",
       "      <th>8843801</th>\n",
       "      <td>tt9916856</td>\n",
       "      <td>nm10538645</td>\n",
       "      <td>nm6951431</td>\n",
       "    </tr>\n",
       "    <tr>\n",
       "      <th>8843802</th>\n",
       "      <td>tt9916880</td>\n",
       "      <td>nm0996406</td>\n",
       "      <td>nm1482639,nm2586970</td>\n",
       "    </tr>\n",
       "  </tbody>\n",
       "</table>\n",
       "<p>8843803 rows × 3 columns</p>\n",
       "</div>"
      ],
      "text/plain": [
       "            tconst            directors                        writers\n",
       "0        tt0000001            nm0005690                             \\N\n",
       "1        tt0000002            nm0721526                             \\N\n",
       "2        tt0000003            nm0721526                             \\N\n",
       "3        tt0000004            nm0721526                             \\N\n",
       "4        tt0000005            nm0005690                             \\N\n",
       "...            ...                  ...                            ...\n",
       "8843798  tt9916848  nm5519454,nm5519375  nm6182221,nm1628284,nm2921377\n",
       "8843799  tt9916850  nm5519375,nm5519454  nm6182221,nm1628284,nm2921377\n",
       "8843800  tt9916852  nm5519454,nm5519375  nm6182221,nm1628284,nm2921377\n",
       "8843801  tt9916856           nm10538645                      nm6951431\n",
       "8843802  tt9916880            nm0996406            nm1482639,nm2586970\n",
       "\n",
       "[8843803 rows x 3 columns]"
      ]
     },
     "execution_count": 35,
     "metadata": {},
     "output_type": "execute_result"
    }
   ],
   "source": [
    "crew_titles"
   ]
  },
  {
   "cell_type": "code",
   "execution_count": null,
   "metadata": {},
   "outputs": [],
   "source": [
    "new_ratings_crew = pd.merge(crew_titles, on=['tconst','t'])"
   ]
  }
 ],
 "metadata": {
  "interpreter": {
   "hash": "aee8b7b246df8f9039afb4144a1f6fd8d2ca17a180786b69acc140d282b71a49"
  },
  "kernelspec": {
   "display_name": "Python 3.9.2 64-bit",
   "language": "python",
   "name": "python3"
  },
  "language_info": {
   "codemirror_mode": {
    "name": "ipython",
    "version": 3
   },
   "file_extension": ".py",
   "mimetype": "text/x-python",
   "name": "python",
   "nbconvert_exporter": "python",
   "pygments_lexer": "ipython3",
   "version": "3.9.2"
  },
  "orig_nbformat": 4
 },
 "nbformat": 4,
 "nbformat_minor": 2
}
